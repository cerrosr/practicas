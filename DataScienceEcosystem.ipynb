{
 "cells": [
  {
   "cell_type": "markdown",
   "id": "81275f9f-4100-468a-9fce-fc193ab6260b",
   "metadata": {},
   "source": [
    "# Data Science Tools and Ecosystem"
   ]
  },
  {
   "cell_type": "markdown",
   "id": "9510ae8b-4906-488a-b274-0aaa73aa0c4c",
   "metadata": {
    "tags": []
   },
   "source": [
    "## Autor: Carlos Daniel Reyes Cerros"
   ]
  },
  {
   "cell_type": "markdown",
   "id": "bfa0d753-9a65-46bc-913b-2212e156e420",
   "metadata": {},
   "source": [
    "In this notebook, Data Science Tools and Ecosystem are summarized."
   ]
  },
  {
   "cell_type": "markdown",
   "id": "43e0ac6e-eec1-43df-afcd-69bb8e548d33",
   "metadata": {
    "tags": []
   },
   "source": [
    "Objectives:\n",
    "    "
   ]
  },
  {
   "cell_type": "markdown",
   "id": "6385d58d-8989-40b6-b199-74a1dd549c11",
   "metadata": {},
   "source": [
    "* Libraries used in Data Science\n",
    "* Languages used in Data Science\n",
    "* Data Science Environments\n",
    "* A basic algorithm to do basic math"
   ]
  },
  {
   "cell_type": "markdown",
   "id": "1d275f25-8192-41fe-89b1-d9552b8a87d6",
   "metadata": {},
   "source": [
    "Some of the popular languages that Data Science use are:"
   ]
  },
  {
   "cell_type": "markdown",
   "id": "6a45c571-69b7-43da-8c1a-8b5dbf2d77e0",
   "metadata": {},
   "source": [
    "* Python\n",
    "* R\n",
    "* Julia"
   ]
  },
  {
   "cell_type": "markdown",
   "id": "3e5160d1-8b60-4cca-9d32-ec4b670de83b",
   "metadata": {},
   "source": [
    "Some of the common used libraries used by Data Scientist include:"
   ]
  },
  {
   "cell_type": "markdown",
   "id": "da71eb62-2747-4402-b15c-3739ec563f11",
   "metadata": {},
   "source": [
    "* Pandas\n",
    "* ggplot\n",
    "* Keras"
   ]
  },
  {
   "cell_type": "markdown",
   "id": "f77d2417-44cf-4c8e-a1a5-fd814bbb2e61",
   "metadata": {},
   "source": [
    "| Data Science Tools|\n",
    "|---------|\n",
    "|Anaconda|\n",
    "|JupyterLab|\n",
    "|VS Code|"
   ]
  },
  {
   "cell_type": "markdown",
   "id": "f0a2faec-e797-4df7-a7c9-309fe80c4e97",
   "metadata": {},
   "source": [
    "### Below are a few examples of evaluating arithmetic expressions in Python"
   ]
  },
  {
   "cell_type": "code",
   "execution_count": 2,
   "id": "2fafefe0-e542-4830-a3c0-c38167ce8913",
   "metadata": {
    "tags": []
   },
   "outputs": [
    {
     "data": {
      "text/plain": [
       "17"
      ]
     },
     "execution_count": 2,
     "metadata": {},
     "output_type": "execute_result"
    }
   ],
   "source": [
    "#This a simple arithmetic expression to mutiply then add integers\n",
    "\n",
    "(3*4)+5"
   ]
  },
  {
   "cell_type": "code",
   "execution_count": 1,
   "id": "27c52742-74d5-46fe-bebb-d5634d646837",
   "metadata": {
    "tags": []
   },
   "outputs": [
    {
     "name": "stdout",
     "output_type": "stream",
     "text": [
      "200 minutes are 3.3333333333333335 hours\n"
     ]
    }
   ],
   "source": [
    "#This will convert 200 minutes to hours by diving by 60\n",
    "\n",
    "hours=200/60\n",
    "print(\"200 minutes are\", hours, \"hours\")"
   ]
  },
  {
   "cell_type": "code",
   "execution_count": null,
   "id": "1e3c8733-c4d8-4d18-b863-95b3a607825a",
   "metadata": {},
   "outputs": [],
   "source": []
  }
 ],
 "metadata": {
  "kernelspec": {
   "display_name": "Python",
   "language": "python",
   "name": "conda-env-python-py"
  },
  "language_info": {
   "codemirror_mode": {
    "name": "ipython",
    "version": 3
   },
   "file_extension": ".py",
   "mimetype": "text/x-python",
   "name": "python",
   "nbconvert_exporter": "python",
   "pygments_lexer": "ipython3",
   "version": "3.7.12"
  }
 },
 "nbformat": 4,
 "nbformat_minor": 5
}
